{
 "cells": [
  {
   "cell_type": "code",
   "execution_count": 1,
   "metadata": {},
   "outputs": [],
   "source": [
    "import pandas as pd\n",
    "import numpy as np\n",
    "import requests\n",
    "import json\n",
    "import time\n",
    "import os\n",
    "\n",
    "from dotenv import load_dotenv\n",
    "from datetime import datetime, timedelta"
   ]
  },
  {
   "cell_type": "code",
   "execution_count": 2,
   "metadata": {},
   "outputs": [
    {
     "data": {
      "text/plain": [
       "True"
      ]
     },
     "execution_count": 2,
     "metadata": {},
     "output_type": "execute_result"
    }
   ],
   "source": [
    "load_dotenv()"
   ]
  },
  {
   "cell_type": "code",
   "execution_count": 25,
   "metadata": {},
   "outputs": [],
   "source": [
    "def nyt_search(start_date, end_date, key, pages=1, t_sleep=6, q=None, news_desk=None):\n",
    "    responses = []\n",
    "    base_url = \"https://api.nytimes.com/svc/search/v2/articlesearch\"\n",
    "    \n",
    "    for i in range(pages):\n",
    "        url = base_url + '.json?fq=' + news_desk + '&facet_field=day_of_week&facet=true&page=' + str(i) + '&begin_date=' + start_date + '&end_date=' + end_date + '&api-key=' + key\n",
    "        data = requests.get(url).json()\n",
    "        responses.append(data)\n",
    "        time.sleep(t_sleep)\n",
    "    \n",
    "    return(responses)\n",
    "\n",
    "def nyt_search_responses_unwrap(responses):\n",
    "    \n",
    "    result = {\n",
    "        \"Date\" : [],\n",
    "        \"Source\" : [],\n",
    "        \"Section\" : [],\n",
    "        \"Headline\" : [],\n",
    "        \"Lead Paragraph\" : [],\n",
    "        \"URL\" : []\n",
    "    }\n",
    "    \n",
    "    for d in responses:\n",
    "        for article in d['response']['docs']:\n",
    "            result[\"Date\"].append(article['pub_date'][:10])\n",
    "            result[\"Source\"].append(article['source'])\n",
    "            result[\"Section\"].append(article['news_desk'])\n",
    "            result[\"Headline\"].append(article['headline']['main'])\n",
    "            result[\"Lead Paragraph\"].append(article['lead_paragraph'])\n",
    "            result[\"URL\"].append(article['web_url'])\n",
    "            \n",
    "    return(result)"
   ]
  },
  {
   "cell_type": "code",
   "execution_count": 4,
   "metadata": {},
   "outputs": [],
   "source": [
    "base_url = \"https://api.nytimes.com/svc/search/v2/articlesearch\"\n",
    "news_desk = \"news_desk:(\\\"Business\\\" \\\"Politics\\\" \\\"Financial\\\" \\\"Foreign\\\" \\\"Jobs\\\" \\\"Personal Investing\\\")\"\n",
    "\n",
    "start_dates = []\n",
    "end_dates = []\n",
    "\n",
    "pages = 50\n",
    "\n",
    "responses = []"
   ]
  },
  {
   "cell_type": "code",
   "execution_count": 5,
   "metadata": {},
   "outputs": [],
   "source": [
    "start_dt = datetime.strptime(\"12-14-2019\", \"%m-%d-%Y\")\n",
    "end_dt = datetime.strptime(\"01-16-2021\", \"%m-%d-%Y\")\n",
    "day_count = 400\n",
    "\n",
    "date_list = [start_dt + timedelta(days=x) for x in range(400)]"
   ]
  },
  {
   "cell_type": "code",
   "execution_count": 6,
   "metadata": {},
   "outputs": [],
   "source": [
    "i = 0\n",
    "\n",
    "while i < day_count:\n",
    "    start_dates.append(f\"{date_list[i]:%Y}{date_list[i]:%m}{date_list[i]:%d}\")\n",
    "    i += 7\n",
    "    end_dates.append(f\"{date_list[i]:%Y}{date_list[i]:%m}{date_list[i]:%d}\")\n",
    "    i += 1"
   ]
  },
  {
   "cell_type": "code",
   "execution_count": 7,
   "metadata": {},
   "outputs": [
    {
     "name": "stdout",
     "output_type": "stream",
     "text": [
      "Search period 1 completed\n",
      "Search period 2 completed\n",
      "Search period 3 completed\n",
      "Search period 4 completed\n",
      "Search period 5 completed\n",
      "Search period 6 completed\n",
      "Search period 7 completed\n",
      "Search period 8 completed\n",
      "Search period 9 completed\n",
      "Search period 10 completed\n",
      "Search block ONE completed\n",
      "Search period 11 completed\n",
      "Search period 12 completed\n",
      "Search period 13 completed\n",
      "Search period 14 completed\n",
      "Search period 15 completed\n",
      "Search period 16 completed\n",
      "Search period 17 completed\n",
      "Search period 18 completed\n",
      "Search period 19 completed\n",
      "Search period 20 completed\n",
      "Search block TWO completed\n",
      "Search period 21 completed\n",
      "Search period 22 completed\n",
      "Search period 23 completed\n",
      "Search period 24 completed\n",
      "Search period 25 completed\n",
      "Search period 26 completed\n",
      "Search period 27 completed\n",
      "Search period 28 completed\n",
      "Search period 29 completed\n",
      "Search period 30 completed\n",
      "Search block THREE completed\n",
      "Search period 31 completed\n",
      "Search period 32 completed\n",
      "Search period 33 completed\n",
      "Search period 34 completed\n",
      "Search period 35 completed\n",
      "Search period 36 completed\n",
      "Search period 37 completed\n",
      "Search period 38 completed\n",
      "Search period 39 completed\n",
      "Search period 40 completed\n",
      "Search block FOUR completed\n",
      "Search period 41 completed\n",
      "Search period 42 completed\n",
      "Search period 43 completed\n",
      "Search period 44 completed\n",
      "Search period 45 completed\n",
      "Search period 46 completed\n",
      "Search period 47 completed\n",
      "Search period 48 completed\n",
      "Search period 49 completed\n",
      "Search period 50 completed\n",
      "Search block FIVE completed\n"
     ]
    }
   ],
   "source": [
    "for i in range(10):\n",
    "    responses.append(nyt_search(start_date=start_dates[i], end_date=end_dates[i], key=os.getenv(\"NYT_API_1\"), pages=pages, news_desk=news_desk))\n",
    "    print(f\"Search period {i+1} completed\")\n",
    "    \n",
    "print(f\"Search block ONE completed\")\n",
    "time.sleep(10)\n",
    "\n",
    "for i in range(10, 20):\n",
    "    responses.append(nyt_search(start_date=start_dates[i], end_date=end_dates[i], key=os.getenv(\"NYT_API_2\"), pages=pages, news_desk=news_desk))\n",
    "    print(f\"Search period {i+1} completed\")\n",
    "    \n",
    "print(f\"Search block TWO completed\")\n",
    "time.sleep(10)\n",
    "   \n",
    "for i in range(20, 30):\n",
    "    responses.append(nyt_search(start_date=start_dates[i], end_date=end_dates[i], key=os.getenv(\"NYT_API_3\"), pages=pages, news_desk=news_desk))\n",
    "    print(f\"Search period {i+1} completed\")\n",
    "    \n",
    "print(f\"Search block THREE completed\")\n",
    "time.sleep(10)\n",
    "\n",
    "for i in range(30, 40):\n",
    "    responses.append(nyt_search(start_date=start_dates[i], end_date=end_dates[i], key=os.getenv(\"NYT_API_4\"), pages=pages, news_desk=news_desk))\n",
    "    print(f\"Search period {i+1} completed\")\n",
    "    \n",
    "print(f\"Search block FOUR completed\")\n",
    "time.sleep(10)\n",
    "\n",
    "for i in range(40, 50):\n",
    "    responses.append(nyt_search(start_date=start_dates[i], end_date=end_dates[i], key=os.getenv(\"NYT_API_5\"), pages=pages, news_desk=news_desk))\n",
    "    print(f\"Search period {i+1} completed\")\n",
    "    \n",
    "print(f\"Search block FIVE completed\")"
   ]
  },
  {
   "cell_type": "code",
   "execution_count": 8,
   "metadata": {},
   "outputs": [],
   "source": [
    "flattened_responses = np.ravel(responses)"
   ]
  },
  {
   "cell_type": "code",
   "execution_count": 26,
   "metadata": {},
   "outputs": [],
   "source": [
    "raw_dictionary = nyt_search_responses_unwrap(flattened_responses)"
   ]
  },
  {
   "cell_type": "code",
   "execution_count": 27,
   "metadata": {},
   "outputs": [],
   "source": [
    "nyt_df = pd.DataFrame.from_dict(raw_dictionary)"
   ]
  },
  {
   "cell_type": "code",
   "execution_count": 28,
   "metadata": {},
   "outputs": [],
   "source": [
    "nyt_df[\"Date\"] = pd.to_datetime(nyt_df[\"Date\"])\n",
    "nyt_df = nyt_df.set_index(\"Date\")\n",
    "nyt_df = nyt_df.sort_index(axis=0)"
   ]
  },
  {
   "cell_type": "code",
   "execution_count": 30,
   "metadata": {},
   "outputs": [],
   "source": [
    "df_headlines = nyt_df.groupby(['Date'])['Headline'].apply(','.join).reset_index().set_index('Date')\n",
    "df_lead_paragraph = nyt_df.groupby(['Date'])['Lead Paragraph'].apply(';'.join).reset_index().set_index('Date')"
   ]
  },
  {
   "cell_type": "code",
   "execution_count": 31,
   "metadata": {},
   "outputs": [],
   "source": [
    "concat_df = pd.concat([df_headlines, df_lead_paragraph], axis=1, join='inner')"
   ]
  },
  {
   "cell_type": "code",
   "execution_count": 33,
   "metadata": {},
   "outputs": [],
   "source": [
    "\n",
    "nyt_df.to_csv(r'nyt_full_data.csv', index = True)"
   ]
  },
  {
   "cell_type": "code",
   "execution_count": 34,
   "metadata": {},
   "outputs": [],
   "source": [
    "\n",
    "concat_df.to_csv(r'nyt_concatenated_data.csv', index = True)"
   ]
  }
 ],
 "metadata": {
  "kernelspec": {
   "display_name": "Python [conda env:project2env] *",
   "language": "python",
   "name": "conda-env-project2env-py"
  },
  "language_info": {
   "codemirror_mode": {
    "name": "ipython",
    "version": 3
   },
   "file_extension": ".py",
   "mimetype": "text/x-python",
   "name": "python",
   "nbconvert_exporter": "python",
   "pygments_lexer": "ipython3",
   "version": "3.7.9"
  }
 },
 "nbformat": 4,
 "nbformat_minor": 4
}
