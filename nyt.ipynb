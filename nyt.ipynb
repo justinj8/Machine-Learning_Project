{
 "cells": [
  {
   "cell_type": "code",
   "execution_count": 38,
   "metadata": {},
   "outputs": [],
   "source": [
    "import pandas as pd\n",
    "import requests\n",
    "import json\n",
    "import time\n",
    "import os\n",
    "\n",
    "from dotenv import load_dotenv\n",
    "from datetime import datetime"
   ]
  },
  {
   "cell_type": "code",
   "execution_count": 39,
   "metadata": {},
   "outputs": [
    {
     "data": {
      "text/plain": [
       "True"
      ]
     },
     "execution_count": 39,
     "metadata": {},
     "output_type": "execute_result"
    }
   ],
   "source": [
    "load_dotenv()"
   ]
  },
  {
   "cell_type": "code",
   "execution_count": 40,
   "metadata": {},
   "outputs": [],
   "source": [
    "def nyt_search(start_date, end_date, key, pages=1, t_sleep=1, q=None, news_desk=None):\n",
    "    responses = []\n",
    "    base_url = \"https://api.nytimes.com/svc/search/v2/articlesearch\"\n",
    "    \n",
    "    for i in range(pages):\n",
    "        url = base_url + '.json?fq=' + news_desk + '&facet_field=day_of_week&facet=true&page=' + str(i) + '&begin_date=' + start_date + '&end_date=' + end_date + '&api-key=' + key\n",
    "        data = requests.get(url).json()\n",
    "        responses.append(data)\n",
    "        time.sleep(t_sleep)\n",
    "    \n",
    "    return(responses)\n",
    "\n",
    "def nyt_search_responses_unwrap(responses):\n",
    "    \n",
    "    result = {\n",
    "        \"Date\" : [],\n",
    "        \"Source\" : [],\n",
    "        \"Headline\" : [],\n",
    "        \"Lead Paragraph\" : []\n",
    "    }\n",
    "    \n",
    "    for d in responses:\n",
    "        for article in d['response']['docs']:\n",
    "            result[\"Date\"].append(article['pub_date'][:10])\n",
    "            result[\"Source\"].append(article['source'])\n",
    "            result[\"Headline\"].append(article['headline']['main'])\n",
    "            result[\"Lead Paragraph\"].append(article['lead_paragraph'])\n",
    "            \n",
    "    return(result)\n",
    "    \n",
    "    "
   ]
  },
  {
   "cell_type": "code",
   "execution_count": 30,
   "metadata": {},
   "outputs": [],
   "source": [
    "base_url = \"https://api.nytimes.com/svc/search/v2/articlesearch\"\n",
    "news_desk = \"news_desk:(\\\"Business\\\" \\\"Politics\\\" \\\"Financial\\\" \\\"Foreign\\\" \\\"Jobs\\\" \\\"Personal Investing\\\")\""
   ]
  },
  {
   "cell_type": "code",
   "execution_count": 31,
   "metadata": {},
   "outputs": [],
   "source": [
    "oct_responses = nyt_search(start_date='20201015', end_date='20201114', key=os.getenv(\"NYT_API_KEY\"), pages=10, news_desk=news_desk)"
   ]
  },
  {
   "cell_type": "code",
   "execution_count": 31,
   "metadata": {},
   "outputs": [],
   "source": [
    "nov_responses = nyt_search(start_date='20201115', end_date='20201214', key=os.getenv(\"NYT_API_KEY\"), pages=10, news_desk=news_desk)"
   ]
  },
  {
   "cell_type": "code",
   "execution_count": 31,
   "metadata": {},
   "outputs": [],
   "source": [
    "dec_responses = nyt_search(start_date='20201215', end_date='20210114', key=os.getenv(\"NYT_API_KEY\"), pages=10, news_desk=news_desk)"
   ]
  },
  {
   "cell_type": "code",
   "execution_count": 61,
   "metadata": {},
   "outputs": [],
   "source": [
    "oct_dict = nyt_search_responses_unwrap(oct_responses)"
   ]
  },
  {
   "cell_type": "code",
   "execution_count": 62,
   "metadata": {},
   "outputs": [],
   "source": [
    "df = pd.DataFrame.from_dict(oct_dict)"
   ]
  },
  {
   "cell_type": "code",
   "execution_count": 63,
   "metadata": {},
   "outputs": [],
   "source": [
    "df[\"Date\"] = pd.to_datetime(df[\"Date\"])\n",
    "df = df.set_index(\"Date\")\n",
    "df = df.sort_index(axis=0)"
   ]
  },
  {
   "cell_type": "code",
   "execution_count": 76,
   "metadata": {},
   "outputs": [],
   "source": [
    "srs = df.groupby(['Date'])['Headline'].apply(','.join).reset_index()"
   ]
  },
  {
   "cell_type": "code",
   "execution_count": 79,
   "metadata": {},
   "outputs": [
    {
     "data": {
      "text/plain": [
       "'Stressed About the Election? Don’t Take It Out on Your Investments,Advertisers Flock to Election Night, When Live TV Is the Main Event Again,Women Converge on Warsaw, Heightening Poland’s Largest Protests in Decades,Qatar Apologizes for Airport Strip Searches and Pursues Charges,Europe Risks a New Economic Downturn as Lockdowns Return'"
      ]
     },
     "execution_count": 79,
     "metadata": {},
     "output_type": "execute_result"
    }
   ],
   "source": [
    "srs[\"Headline\"][0]"
   ]
  },
  {
   "cell_type": "code",
   "execution_count": null,
   "metadata": {},
   "outputs": [],
   "source": []
  }
 ],
 "metadata": {
  "kernelspec": {
   "display_name": "Python 3",
   "language": "python",
   "name": "python3"
  },
  "language_info": {
   "codemirror_mode": {
    "name": "ipython",
    "version": 3
   },
   "file_extension": ".py",
   "mimetype": "text/x-python",
   "name": "python",
   "nbconvert_exporter": "python",
   "pygments_lexer": "ipython3",
   "version": "3.7.9"
  }
 },
 "nbformat": 4,
 "nbformat_minor": 4
}
