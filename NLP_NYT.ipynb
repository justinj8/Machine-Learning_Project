{
 "cells": [
  {
   "cell_type": "code",
   "execution_count": 1,
   "metadata": {},
   "outputs": [
    {
     "data": {
      "text/plain": [
       "True"
      ]
     },
     "execution_count": 1,
     "metadata": {},
     "output_type": "execute_result"
    }
   ],
   "source": [
    "import os\n",
    "import json\n",
    "#from pandas import json_normalize\n",
    "import pandas as pd\n",
    "from ibm_watson import NaturalLanguageUnderstandingV1\n",
    "from ibm_cloud_sdk_core.authenticators import IAMAuthenticator\n",
    "from ibm_watson.natural_language_understanding_v1 import Features, EmotionOptions, SentimentOptions\n",
    "from dotenv import load_dotenv\n",
    "load_dotenv()"
   ]
  },
  {
   "cell_type": "code",
   "execution_count": null,
   "metadata": {},
   "outputs": [],
   "source": [
    "file = pd.read_csv(\"nyt_concatenated_data.csv\")"
   ]
  },
  {
   "cell_type": "code",
   "execution_count": null,
   "metadata": {},
   "outputs": [],
   "source": [
    "headline_emotion = []\n",
    "lead_paragraph_emotion = []\n",
    "headline_sentiment = []\n",
    "lead_paragraph_sentiment = []"
   ]
  },
  {
   "cell_type": "code",
   "execution_count": null,
   "metadata": {},
   "outputs": [],
   "source": [
    "# Get the Tone Analyzer API Key and URL\n",
    "tone_api = os.getenv(\"tone_key\")\n",
    "tone_url = os.getenv(\"tone_url\")"
   ]
  },
  {
   "cell_type": "code",
   "execution_count": null,
   "metadata": {},
   "outputs": [],
   "source": [
    "authenticator = IAMAuthenticator(tone_api)\n",
    "natural_language_understanding = NaturalLanguageUnderstandingV1(\n",
    "    version='2020-08-01',\n",
    "    authenticator=authenticator\n",
    ")\n",
    "\n",
    "natural_language_understanding.set_service_url(tone_url)\n",
    "for i, j in file.iterrows():\n",
    "    response = natural_language_understanding.analyze(\n",
    "        text= j.Headline,\n",
    "        features=Features(emotion =EmotionOptions(), sentiment=SentimentOptions())).get_result()\n",
    "#print(json.dumps(response, indent=2))\n",
    "    headline_emotion.append(response['emotion']['document']['emotion'])\n",
    "    headline_sentiment.append(response['sentiment']['document'])"
   ]
  },
  {
   "cell_type": "code",
   "execution_count": null,
   "metadata": {},
   "outputs": [],
   "source": [
    "natural_language_understanding.set_service_url(tone_url)\n",
    "for i, j in file.iterrows():\n",
    "    response = natural_language_understanding.analyze(\n",
    "        text= j['Lead Paragraph'],\n",
    "        features=Features(emotion =EmotionOptions(), sentiment=SentimentOptions())).get_result()\n",
    "#print(json.dumps(response, indent=2))\n",
    "    lead_paragraph_emotion.append(response['emotion']['document']['emotion'])\n",
    "    lead_paragraph_sentiment.append(response['sentiment']['document'])"
   ]
  },
  {
   "cell_type": "code",
   "execution_count": 9,
   "metadata": {},
   "outputs": [],
   "source": [
    "df_lead_paragraph_sent = pd.DataFrame(lead_paragraph_sentiment)\n",
    "df_lead_paragraph_emotion = pd.DataFrame(lead_paragraph_emotion)"
   ]
  },
  {
   "cell_type": "code",
   "execution_count": 20,
   "metadata": {},
   "outputs": [],
   "source": [
    "df_lead_paragraph_sent.rename(columns={\"label\": \"emotion_lead_par\", \"score\": \"score_lead_par\"}, inplace = True)\n",
    "df_lead_paragraph_emotion.rename(columns = {\"anger\":\"anger_lead_par\",\"disgust\":\"disgust_lead_par\", \"fear\" :\"fear_lead_par\", \"joy\": \"joy_lead_par\", \"sadness\": \"sadness_lead_par\"}, inplace = True)"
   ]
  },
  {
   "cell_type": "code",
   "execution_count": 24,
   "metadata": {},
   "outputs": [],
   "source": [
    "df_headline_sent = pd.DataFrame(headline_sentiment)\n",
    "df_headline_emotion = pd.DataFrame(headline_emotion)"
   ]
  },
  {
   "cell_type": "code",
   "execution_count": 25,
   "metadata": {},
   "outputs": [],
   "source": [
    "df_headline_sent.rename(columns={\"label\": \"emotion_headline\", \"score\": \"score_headline\"}, inplace = True)\n",
    "df_headline_emotion.rename(columns = {\"anger\":\"anger_headline\",\"disgust\":\"disgust_headline\", \"fear\" :\"fear_headline\", \"joy\": \"joy_headline\", \"sadness\": \"sadness_headline\"}, inplace = True)\n"
   ]
  },
  {
   "cell_type": "code",
   "execution_count": 30,
   "metadata": {},
   "outputs": [],
   "source": [
    "df_concat1 = pd.concat([df_headline_sent,df_headline_emotion], join = 'inner', axis = 1)\n",
    "df_concat2 = pd.concat([df_lead_paragraph_sent, df_lead_paragraph_emotion], join = 'inner', axis =1)\n",
    "df_concat3 = pd.concat([df_concat1, df_concat2], join = 'inner', axis =1)\n",
    "df_nlp = pd.concat([df_concat3, file], join = 'inner', axis = 1)\n",
    "df_nlp.set_index('Date', inplace = True)"
   ]
  },
  {
   "cell_type": "code",
   "execution_count": 32,
   "metadata": {},
   "outputs": [],
   "source": [
    "df_nlp.to_csv(r'df_nlp.csv', index = True)"
   ]
  }
 ],
 "metadata": {
  "kernelspec": {
   "display_name": "Python 3",
   "language": "python",
   "name": "python3"
  },
  "language_info": {
   "codemirror_mode": {
    "name": "ipython",
    "version": 3
   },
   "file_extension": ".py",
   "mimetype": "text/x-python",
   "name": "python",
   "nbconvert_exporter": "python",
   "pygments_lexer": "ipython3",
   "version": "3.7.7"
  }
 },
 "nbformat": 4,
 "nbformat_minor": 4
}
