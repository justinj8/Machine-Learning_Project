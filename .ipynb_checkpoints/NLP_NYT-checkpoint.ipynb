{
 "cells": [
  {
   "cell_type": "code",
   "execution_count": 97,
   "metadata": {},
   "outputs": [
    {
     "ename": "ModuleNotFoundError",
     "evalue": "No module named 'ibm_watson'",
     "output_type": "error",
     "traceback": [
      "\u001b[0;31m---------------------------------------------------------------------------\u001b[0m",
      "\u001b[0;31mModuleNotFoundError\u001b[0m                       Traceback (most recent call last)",
      "\u001b[0;32m<ipython-input-97-dfbfeca5104a>\u001b[0m in \u001b[0;36m<module>\u001b[0;34m\u001b[0m\n\u001b[1;32m      3\u001b[0m \u001b[0;31m#from pandas import json_normalize\u001b[0m\u001b[0;34m\u001b[0m\u001b[0;34m\u001b[0m\u001b[0;34m\u001b[0m\u001b[0m\n\u001b[1;32m      4\u001b[0m \u001b[0;32mimport\u001b[0m \u001b[0mpandas\u001b[0m \u001b[0;32mas\u001b[0m \u001b[0mpd\u001b[0m\u001b[0;34m\u001b[0m\u001b[0;34m\u001b[0m\u001b[0m\n\u001b[0;32m----> 5\u001b[0;31m \u001b[0;32mfrom\u001b[0m \u001b[0mibm_watson\u001b[0m \u001b[0;32mimport\u001b[0m \u001b[0mNaturalLanguageUnderstandingV1\u001b[0m\u001b[0;34m\u001b[0m\u001b[0;34m\u001b[0m\u001b[0m\n\u001b[0m\u001b[1;32m      6\u001b[0m \u001b[0;32mfrom\u001b[0m \u001b[0mibm_cloud_sdk_core\u001b[0m\u001b[0;34m.\u001b[0m\u001b[0mauthenticators\u001b[0m \u001b[0;32mimport\u001b[0m \u001b[0mIAMAuthenticator\u001b[0m\u001b[0;34m\u001b[0m\u001b[0;34m\u001b[0m\u001b[0m\n\u001b[1;32m      7\u001b[0m \u001b[0;32mfrom\u001b[0m \u001b[0mibm_watson\u001b[0m\u001b[0;34m.\u001b[0m\u001b[0mnatural_language_understanding_v1\u001b[0m \u001b[0;32mimport\u001b[0m \u001b[0mFeatures\u001b[0m\u001b[0;34m,\u001b[0m \u001b[0mEmotionOptions\u001b[0m\u001b[0;34m,\u001b[0m \u001b[0mSentimentOptions\u001b[0m\u001b[0;34m\u001b[0m\u001b[0;34m\u001b[0m\u001b[0m\n",
      "\u001b[0;31mModuleNotFoundError\u001b[0m: No module named 'ibm_watson'"
     ]
    }
   ],
   "source": [
    "import os\n",
    "import json\n",
    "#from pandas import json_normalize\n",
    "import pandas as pd\n",
    "from ibm_watson import NaturalLanguageUnderstandingV1\n",
    "from ibm_cloud_sdk_core.authenticators import IAMAuthenticator\n",
    "from ibm_watson.natural_language_understanding_v1 import Features, EmotionOptions, SentimentOptions\n",
    "from dotenv import load_dotenv\n",
    "load_dotenv()"
   ]
  },
  {
   "cell_type": "code",
   "execution_count": null,
   "metadata": {},
   "outputs": [],
   "source": [
    "file = pd.read_csv(\"nyt_concatenated_data.csv\")"
   ]
  },
  {
   "cell_type": "code",
   "execution_count": null,
   "metadata": {},
   "outputs": [],
   "source": [
    "headline_emotion = []\n",
    "lead_paragraph_emotion = []\n",
    "headline_sentiment = []\n",
    "lead_paragraph_sentiment = []"
   ]
  },
  {
   "cell_type": "code",
   "execution_count": null,
   "metadata": {},
   "outputs": [],
   "source": [
    "# Get the Tone Analyzer API Key and URL\n",
    "tone_api = os.getenv(\"tone_key\")\n",
    "tone_url = os.getenv(\"tone_url\")"
   ]
  },
  {
   "cell_type": "code",
   "execution_count": null,
   "metadata": {},
   "outputs": [],
   "source": [
    "authenticator = IAMAuthenticator(tone_api)\n",
    "natural_language_understanding = NaturalLanguageUnderstandingV1(\n",
    "    version='2020-08-01',\n",
    "    authenticator=authenticator\n",
    ")\n",
    "\n",
    "natural_language_understanding.set_service_url(tone_url)\n",
    "for i, j in file.iterrows():\n",
    "    response = natural_language_understanding.analyze(\n",
    "        text= j.Headline,\n",
    "        features=Features(emotion =EmotionOptions(), sentiment=SentimentOptions())).get_result()\n",
    "#print(json.dumps(response, indent=2))\n",
    "    headline_emotion.append(response['emotion']['document']['emotion'])\n",
    "    headline_sentiment.append(response['sentiment']['document'])"
   ]
  },
  {
   "cell_type": "code",
   "execution_count": null,
   "metadata": {},
   "outputs": [],
   "source": [
    "natural_language_understanding.set_service_url(tone_url)\n",
    "for i, j in file.iterrows():\n",
    "    response = natural_language_understanding.analyze(\n",
    "        text= j['Lead Paragraph'],\n",
    "        features=Features(emotion =EmotionOptions(), sentiment=SentimentOptions())).get_result()\n",
    "#print(json.dumps(response, indent=2))\n",
    "    lead_paragraph_emotion.append(response['emotion']['document']['emotion'])\n",
    "    lead_paragraph_sentiment.append(response['sentiment']['document'])"
   ]
  },
  {
   "cell_type": "code",
   "execution_count": 9,
   "metadata": {},
   "outputs": [],
   "source": [
    "df_lead_paragraph_sent = pd.DataFrame(lead_paragraph_sentiment)\n",
    "df_lead_paragraph_emotion = pd.DataFrame(lead_paragraph_emotion)"
   ]
  },
  {
   "cell_type": "code",
   "execution_count": 20,
   "metadata": {},
   "outputs": [],
   "source": [
    "df_lead_paragraph_sent.rename(columns={\"label\": \"emotion_lead_par\", \"score\": \"score_lead_par\"}, inplace = True)\n",
    "df_lead_paragraph_emotion.rename(columns = {\"anger\":\"anger_lead_par\",\"disgust\":\"disgust_lead_par\", \"fear\" :\"fear_lead_par\", \"joy\": \"joy_lead_par\", \"sadness\": \"sadness_lead_par\"}, inplace = True)"
   ]
  },
  {
   "cell_type": "code",
   "execution_count": 24,
   "metadata": {},
   "outputs": [],
   "source": [
    "df_headline_sent = pd.DataFrame(headline_sentiment)\n",
    "df_headline_emotion = pd.DataFrame(headline_emotion)"
   ]
  },
  {
   "cell_type": "code",
   "execution_count": 25,
   "metadata": {},
   "outputs": [],
   "source": [
    "df_headline_sent.rename(columns={\"label\": \"emotion_headline\", \"score\": \"score_headline\"}, inplace = True)\n",
    "df_headline_emotion.rename(columns = {\"anger\":\"anger_headline\",\"disgust\":\"disgust_headline\", \"fear\" :\"fear_headline\", \"joy\": \"joy_headline\", \"sadness\": \"sadness_headline\"}, inplace = True)\n"
   ]
  },
  {
   "cell_type": "code",
   "execution_count": 30,
   "metadata": {},
   "outputs": [],
   "source": [
    "df_concat1 = pd.concat([df_headline_sent,df_headline_emotion], join = 'inner', axis = 1)\n",
    "df_concat2 = pd.concat([df_lead_paragraph_sent, df_lead_paragraph_emotion], join = 'inner', axis =1)\n",
    "df_concat3 = pd.concat([df_concat1, df_concat2], join = 'inner', axis =1)\n",
    "df_nlp = pd.concat([df_concat3, file], join = 'inner', axis = 1)\n",
    "df_nlp.set_index('Date', inplace = True)"
   ]
  },
  {
   "cell_type": "code",
   "execution_count": 32,
   "metadata": {},
   "outputs": [],
   "source": [
    "df_nlp.to_csv(r'df_nlp.csv', index = True)"
   ]
  },
  {
   "cell_type": "code",
   "execution_count": 9,
   "metadata": {},
   "outputs": [
    {
     "data": {
      "text/html": [
       "<div>\n",
       "<style scoped>\n",
       "    .dataframe tbody tr th:only-of-type {\n",
       "        vertical-align: middle;\n",
       "    }\n",
       "\n",
       "    .dataframe tbody tr th {\n",
       "        vertical-align: top;\n",
       "    }\n",
       "\n",
       "    .dataframe thead th {\n",
       "        text-align: right;\n",
       "    }\n",
       "</style>\n",
       "<table border=\"1\" class=\"dataframe\">\n",
       "  <thead>\n",
       "    <tr style=\"text-align: right;\">\n",
       "      <th></th>\n",
       "      <th>Ticker</th>\n",
       "      <th>Close</th>\n",
       "    </tr>\n",
       "    <tr>\n",
       "      <th>Date</th>\n",
       "      <th></th>\n",
       "      <th></th>\n",
       "    </tr>\n",
       "  </thead>\n",
       "  <tbody>\n",
       "    <tr>\n",
       "      <th>2020-10-15</th>\n",
       "      <td>FTSE</td>\n",
       "      <td>5832.52</td>\n",
       "    </tr>\n",
       "    <tr>\n",
       "      <th>2020-10-16</th>\n",
       "      <td>FTSE</td>\n",
       "      <td>5919.58</td>\n",
       "    </tr>\n",
       "    <tr>\n",
       "      <th>2020-10-19</th>\n",
       "      <td>FTSE</td>\n",
       "      <td>5884.65</td>\n",
       "    </tr>\n",
       "    <tr>\n",
       "      <th>2020-10-20</th>\n",
       "      <td>FTSE</td>\n",
       "      <td>5889.22</td>\n",
       "    </tr>\n",
       "    <tr>\n",
       "      <th>2020-10-21</th>\n",
       "      <td>FTSE</td>\n",
       "      <td>5776.50</td>\n",
       "    </tr>\n",
       "  </tbody>\n",
       "</table>\n",
       "</div>"
      ],
      "text/plain": [
       "           Ticker    Close\n",
       "Date                      \n",
       "2020-10-15   FTSE  5832.52\n",
       "2020-10-16   FTSE  5919.58\n",
       "2020-10-19   FTSE  5884.65\n",
       "2020-10-20   FTSE  5889.22\n",
       "2020-10-21   FTSE  5776.50"
      ]
     },
     "execution_count": 9,
     "metadata": {},
     "output_type": "execute_result"
    }
   ],
   "source": [
    "file2 = pd.read_csv(\"global_indicies.csv\", infer_datetime_format = True, parse_dates = True )\n",
    "file2[\"Date\"]=pd.to_datetime(file2[\"Date\"])\n",
    "file2[\"Date\"]=file2[\"Date\"].dt.date\n",
    "file2.set_index(\"Date\",inplace=True)\n",
    "file2.head()"
   ]
  },
  {
   "cell_type": "code",
   "execution_count": 10,
   "metadata": {},
   "outputs": [],
   "source": [
    "file3 = file2.pivot(columns = 'Ticker')"
   ]
  },
  {
   "cell_type": "code",
   "execution_count": 11,
   "metadata": {},
   "outputs": [],
   "source": [
    "df_nlp = pd.read_csv(\"df_nlp.csv\", index_col = 'Date')"
   ]
  },
  {
   "cell_type": "code",
   "execution_count": 12,
   "metadata": {},
   "outputs": [],
   "source": [
    "file3.index = pd.to_datetime(file3.index)\n",
    "df_nlp.index = pd.to_datetime(df_nlp.index)"
   ]
  },
  {
   "cell_type": "code",
   "execution_count": 13,
   "metadata": {},
   "outputs": [],
   "source": [
    "#concat\n",
    "final_df_1 = pd.concat([file3,df_nlp], join = 'inner', axis = 1 )\n",
    "final_df_1.dropna(inplace = True)"
   ]
  },
  {
   "cell_type": "code",
   "execution_count": 28,
   "metadata": {},
   "outputs": [],
   "source": [
    "final_df_prep = final_df_1.copy().drop(columns = ['Headline', 'Lead Paragraph'] )\n",
    "final_df_encoded = pd.get_dummies(final_df_prep)\n",
    "final_df_encoded.drop(columns = 'emotion_headline_negative', inplace = True)"
   ]
  },
  {
   "cell_type": "code",
   "execution_count": 30,
   "metadata": {},
   "outputs": [],
   "source": [
    "final_df_encoded.to_csv(r'final_encoded_data.csv', index = True)"
   ]
  },
  {
   "cell_type": "code",
   "execution_count": 54,
   "metadata": {},
   "outputs": [
    {
     "data": {
      "text/html": [
       "<div>\n",
       "<style scoped>\n",
       "    .dataframe tbody tr th:only-of-type {\n",
       "        vertical-align: middle;\n",
       "    }\n",
       "\n",
       "    .dataframe tbody tr th {\n",
       "        vertical-align: top;\n",
       "    }\n",
       "\n",
       "    .dataframe thead th {\n",
       "        text-align: right;\n",
       "    }\n",
       "</style>\n",
       "<table border=\"1\" class=\"dataframe\">\n",
       "  <thead>\n",
       "    <tr style=\"text-align: right;\">\n",
       "      <th></th>\n",
       "      <th>(Close, CAC)</th>\n",
       "      <th>(Close, FTSE)</th>\n",
       "      <th>(Close, MDAX)</th>\n",
       "      <th>(Close, SP500)</th>\n",
       "      <th>(Close, TOPIX)</th>\n",
       "      <th>score_headline</th>\n",
       "      <th>anger_headline</th>\n",
       "      <th>disgust_headline</th>\n",
       "      <th>fear_headline</th>\n",
       "      <th>joy_headline</th>\n",
       "      <th>sadness_headline</th>\n",
       "      <th>score_lead_par</th>\n",
       "      <th>anger_lead_par</th>\n",
       "      <th>disgust_lead_par</th>\n",
       "      <th>fear_lead_par</th>\n",
       "      <th>joy_lead_par</th>\n",
       "      <th>sadness_lead_par</th>\n",
       "      <th>emotion_lead_par_negative</th>\n",
       "      <th>emotion_lead_par_positive</th>\n",
       "    </tr>\n",
       "    <tr>\n",
       "      <th>Date</th>\n",
       "      <th></th>\n",
       "      <th></th>\n",
       "      <th></th>\n",
       "      <th></th>\n",
       "      <th></th>\n",
       "      <th></th>\n",
       "      <th></th>\n",
       "      <th></th>\n",
       "      <th></th>\n",
       "      <th></th>\n",
       "      <th></th>\n",
       "      <th></th>\n",
       "      <th></th>\n",
       "      <th></th>\n",
       "      <th></th>\n",
       "      <th></th>\n",
       "      <th></th>\n",
       "      <th></th>\n",
       "      <th></th>\n",
       "    </tr>\n",
       "  </thead>\n",
       "  <tbody>\n",
       "    <tr>\n",
       "      <th>2020-10-16</th>\n",
       "      <td>4935.86</td>\n",
       "      <td>5919.58</td>\n",
       "      <td>27765.20</td>\n",
       "      <td>3483.81</td>\n",
       "      <td>1617.69</td>\n",
       "      <td>-0.486293</td>\n",
       "      <td>0.232385</td>\n",
       "      <td>0.498824</td>\n",
       "      <td>0.062049</td>\n",
       "      <td>0.575430</td>\n",
       "      <td>0.456423</td>\n",
       "      <td>-0.458753</td>\n",
       "      <td>0.134218</td>\n",
       "      <td>0.182121</td>\n",
       "      <td>0.111655</td>\n",
       "      <td>0.540156</td>\n",
       "      <td>0.546577</td>\n",
       "      <td>1</td>\n",
       "      <td>0</td>\n",
       "    </tr>\n",
       "    <tr>\n",
       "      <th>2020-10-19</th>\n",
       "      <td>4929.27</td>\n",
       "      <td>5884.65</td>\n",
       "      <td>27815.35</td>\n",
       "      <td>3426.92</td>\n",
       "      <td>1637.98</td>\n",
       "      <td>-0.695622</td>\n",
       "      <td>0.564387</td>\n",
       "      <td>0.564141</td>\n",
       "      <td>0.075140</td>\n",
       "      <td>0.166083</td>\n",
       "      <td>0.487874</td>\n",
       "      <td>-0.406186</td>\n",
       "      <td>0.485618</td>\n",
       "      <td>0.446847</td>\n",
       "      <td>0.097647</td>\n",
       "      <td>0.526350</td>\n",
       "      <td>0.528911</td>\n",
       "      <td>1</td>\n",
       "      <td>0</td>\n",
       "    </tr>\n",
       "    <tr>\n",
       "      <th>2020-10-20</th>\n",
       "      <td>4929.28</td>\n",
       "      <td>5889.22</td>\n",
       "      <td>27692.89</td>\n",
       "      <td>3443.12</td>\n",
       "      <td>1625.74</td>\n",
       "      <td>-0.529668</td>\n",
       "      <td>0.598165</td>\n",
       "      <td>0.278106</td>\n",
       "      <td>0.109942</td>\n",
       "      <td>0.525510</td>\n",
       "      <td>0.206216</td>\n",
       "      <td>-0.337775</td>\n",
       "      <td>0.471010</td>\n",
       "      <td>0.189398</td>\n",
       "      <td>0.115233</td>\n",
       "      <td>0.549269</td>\n",
       "      <td>0.520048</td>\n",
       "      <td>1</td>\n",
       "      <td>0</td>\n",
       "    </tr>\n",
       "    <tr>\n",
       "      <th>2020-10-21</th>\n",
       "      <td>4853.95</td>\n",
       "      <td>5776.50</td>\n",
       "      <td>27165.35</td>\n",
       "      <td>3435.56</td>\n",
       "      <td>1637.60</td>\n",
       "      <td>-0.701941</td>\n",
       "      <td>0.614077</td>\n",
       "      <td>0.474541</td>\n",
       "      <td>0.080264</td>\n",
       "      <td>0.102332</td>\n",
       "      <td>0.551506</td>\n",
       "      <td>-0.461309</td>\n",
       "      <td>0.173107</td>\n",
       "      <td>0.484750</td>\n",
       "      <td>0.533805</td>\n",
       "      <td>0.528012</td>\n",
       "      <td>0.500254</td>\n",
       "      <td>1</td>\n",
       "      <td>0</td>\n",
       "    </tr>\n",
       "    <tr>\n",
       "      <th>2020-10-22</th>\n",
       "      <td>4851.38</td>\n",
       "      <td>5785.65</td>\n",
       "      <td>27189.17</td>\n",
       "      <td>3453.49</td>\n",
       "      <td>1619.79</td>\n",
       "      <td>-0.580007</td>\n",
       "      <td>0.489271</td>\n",
       "      <td>0.264428</td>\n",
       "      <td>0.092988</td>\n",
       "      <td>0.190490</td>\n",
       "      <td>0.132476</td>\n",
       "      <td>-0.624506</td>\n",
       "      <td>0.161651</td>\n",
       "      <td>0.149247</td>\n",
       "      <td>0.120754</td>\n",
       "      <td>0.501384</td>\n",
       "      <td>0.514247</td>\n",
       "      <td>1</td>\n",
       "      <td>0</td>\n",
       "    </tr>\n",
       "  </tbody>\n",
       "</table>\n",
       "</div>"
      ],
      "text/plain": [
       "            (Close, CAC)  (Close, FTSE)  (Close, MDAX)  (Close, SP500)  \\\n",
       "Date                                                                     \n",
       "2020-10-16       4935.86        5919.58       27765.20         3483.81   \n",
       "2020-10-19       4929.27        5884.65       27815.35         3426.92   \n",
       "2020-10-20       4929.28        5889.22       27692.89         3443.12   \n",
       "2020-10-21       4853.95        5776.50       27165.35         3435.56   \n",
       "2020-10-22       4851.38        5785.65       27189.17         3453.49   \n",
       "\n",
       "            (Close, TOPIX)  score_headline  anger_headline  disgust_headline  \\\n",
       "Date                                                                           \n",
       "2020-10-16         1617.69       -0.486293        0.232385          0.498824   \n",
       "2020-10-19         1637.98       -0.695622        0.564387          0.564141   \n",
       "2020-10-20         1625.74       -0.529668        0.598165          0.278106   \n",
       "2020-10-21         1637.60       -0.701941        0.614077          0.474541   \n",
       "2020-10-22         1619.79       -0.580007        0.489271          0.264428   \n",
       "\n",
       "            fear_headline  joy_headline  sadness_headline  score_lead_par  \\\n",
       "Date                                                                        \n",
       "2020-10-16       0.062049      0.575430          0.456423       -0.458753   \n",
       "2020-10-19       0.075140      0.166083          0.487874       -0.406186   \n",
       "2020-10-20       0.109942      0.525510          0.206216       -0.337775   \n",
       "2020-10-21       0.080264      0.102332          0.551506       -0.461309   \n",
       "2020-10-22       0.092988      0.190490          0.132476       -0.624506   \n",
       "\n",
       "            anger_lead_par  disgust_lead_par  fear_lead_par  joy_lead_par  \\\n",
       "Date                                                                        \n",
       "2020-10-16        0.134218          0.182121       0.111655      0.540156   \n",
       "2020-10-19        0.485618          0.446847       0.097647      0.526350   \n",
       "2020-10-20        0.471010          0.189398       0.115233      0.549269   \n",
       "2020-10-21        0.173107          0.484750       0.533805      0.528012   \n",
       "2020-10-22        0.161651          0.149247       0.120754      0.501384   \n",
       "\n",
       "            sadness_lead_par  emotion_lead_par_negative  \\\n",
       "Date                                                      \n",
       "2020-10-16          0.546577                          1   \n",
       "2020-10-19          0.528911                          1   \n",
       "2020-10-20          0.520048                          1   \n",
       "2020-10-21          0.500254                          1   \n",
       "2020-10-22          0.514247                          1   \n",
       "\n",
       "            emotion_lead_par_positive  \n",
       "Date                                   \n",
       "2020-10-16                          0  \n",
       "2020-10-19                          0  \n",
       "2020-10-20                          0  \n",
       "2020-10-21                          0  \n",
       "2020-10-22                          0  "
      ]
     },
     "execution_count": 54,
     "metadata": {},
     "output_type": "execute_result"
    }
   ],
   "source": [
    "final_df_encoded.head()"
   ]
  },
  {
   "cell_type": "code",
   "execution_count": 95,
   "metadata": {},
   "outputs": [],
   "source": [
    "df_topix = final_df_encoded.iloc[:,4:]\n",
    "df_sp500 = final_df_encoded.iloc[:,3:].drop(columns = (final_df_encoded.iloc[:,4:5]))\n",
    "df_mdax = final_df_encoded.iloc[:,2:].drop(columns = (final_df_encoded.iloc[:,3:5]))\n",
    "df_ftse = final_df_encoded.iloc[:,1:].drop(columns = (final_df_encoded.iloc[:,2:6]))\n",
    "df_cac = final_df_encoded.iloc[:,0:].drop(columns = (final_df_encoded.iloc[:,1:7]))"
   ]
  },
  {
   "cell_type": "code",
   "execution_count": null,
   "metadata": {},
   "outputs": [],
   "source": []
  }
 ],
 "metadata": {
  "kernelspec": {
   "display_name": "Python 3",
   "language": "python",
   "name": "python3"
  },
  "language_info": {
   "codemirror_mode": {
    "name": "ipython",
    "version": 3
   },
   "file_extension": ".py",
   "mimetype": "text/x-python",
   "name": "python",
   "nbconvert_exporter": "python",
   "pygments_lexer": "ipython3",
   "version": "3.8.3"
  }
 },
 "nbformat": 4,
 "nbformat_minor": 4
}
