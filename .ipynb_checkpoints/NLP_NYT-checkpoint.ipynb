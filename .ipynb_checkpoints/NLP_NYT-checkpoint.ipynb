{
 "cells": [
  {
   "cell_type": "code",
   "execution_count": 1,
   "metadata": {},
   "outputs": [
    {
     "data": {
      "text/plain": [
       "True"
      ]
     },
     "execution_count": 1,
     "metadata": {},
     "output_type": "execute_result"
    }
   ],
   "source": [
    "import os\n",
    "import json\n",
    "#from pandas import json_normalize\n",
    "import pandas as pd\n",
    "from ibm_watson import NaturalLanguageUnderstandingV1\n",
    "from ibm_cloud_sdk_core.authenticators import IAMAuthenticator\n",
    "from ibm_watson.natural_language_understanding_v1 import Features, EmotionOptions, SentimentOptions\n",
    "from dotenv import load_dotenv\n",
    "load_dotenv()"
   ]
  },
  {
   "cell_type": "code",
   "execution_count": null,
   "metadata": {},
   "outputs": [],
   "source": [
    "file = pd.read_csv(\"nyt_concatenated_data.csv\")"
   ]
  },
  {
   "cell_type": "code",
   "execution_count": null,
   "metadata": {},
   "outputs": [],
   "source": [
    "headline_emotion = []\n",
    "lead_paragraph_emotion = []\n",
    "headline_sentiment = []\n",
    "lead_paragraph_sentiment = []"
   ]
  },
  {
   "cell_type": "code",
   "execution_count": null,
   "metadata": {},
   "outputs": [],
   "source": [
    "# Get the Tone Analyzer API Key and URL\n",
    "tone_api = os.getenv(\"tone_key\")\n",
    "tone_url = os.getenv(\"tone_url\")"
   ]
  },
  {
   "cell_type": "code",
   "execution_count": null,
   "metadata": {},
   "outputs": [],
   "source": [
    "authenticator = IAMAuthenticator(tone_api)\n",
    "natural_language_understanding = NaturalLanguageUnderstandingV1(\n",
    "    version='2020-08-01',\n",
    "    authenticator=authenticator\n",
    ")\n",
    "\n",
    "natural_language_understanding.set_service_url(tone_url)\n",
    "for i, j in file.iterrows():\n",
    "    response = natural_language_understanding.analyze(\n",
    "        text= j.Headline,\n",
    "        features=Features(emotion =EmotionOptions(), sentiment=SentimentOptions())).get_result()\n",
    "#print(json.dumps(response, indent=2))\n",
    "    headline_emotion.append(response['emotion']['document']['emotion'])\n",
    "    headline_sentiment.append(response['sentiment']['document'])"
   ]
  },
  {
   "cell_type": "code",
   "execution_count": null,
   "metadata": {},
   "outputs": [],
   "source": [
    "natural_language_understanding.set_service_url(tone_url)\n",
    "for i, j in file.iterrows():\n",
    "    response = natural_language_understanding.analyze(\n",
    "        text= j['Lead Paragraph'],\n",
    "        features=Features(emotion =EmotionOptions(), sentiment=SentimentOptions())).get_result()\n",
    "#print(json.dumps(response, indent=2))\n",
    "    lead_paragraph_emotion.append(response['emotion']['document']['emotion'])\n",
    "    lead_paragraph_sentiment.append(response['sentiment']['document'])"
   ]
  },
  {
   "cell_type": "code",
   "execution_count": 9,
   "metadata": {},
   "outputs": [],
   "source": [
    "df_lead_paragraph_sent = pd.DataFrame(lead_paragraph_sentiment)\n",
    "df_lead_paragraph_emotion = pd.DataFrame(lead_paragraph_emotion)"
   ]
  },
  {
   "cell_type": "code",
   "execution_count": 20,
   "metadata": {},
   "outputs": [],
   "source": [
    "df_lead_paragraph_sent.rename(columns={\"label\": \"emotion_lead_par\", \"score\": \"score_lead_par\"}, inplace = True)\n",
    "df_lead_paragraph_emotion.rename(columns = {\"anger\":\"anger_lead_par\",\"disgust\":\"disgust_lead_par\", \"fear\" :\"fear_lead_par\", \"joy\": \"joy_lead_par\", \"sadness\": \"sadness_lead_par\"}, inplace = True)"
   ]
  },
  {
   "cell_type": "code",
   "execution_count": 24,
   "metadata": {},
   "outputs": [],
   "source": [
    "df_headline_sent = pd.DataFrame(headline_sentiment)\n",
    "df_headline_emotion = pd.DataFrame(headline_emotion)"
   ]
  },
  {
   "cell_type": "code",
   "execution_count": 25,
   "metadata": {},
   "outputs": [],
   "source": [
    "df_headline_sent.rename(columns={\"label\": \"emotion_headline\", \"score\": \"score_headline\"}, inplace = True)\n",
    "df_headline_emotion.rename(columns = {\"anger\":\"anger_headline\",\"disgust\":\"disgust_headline\", \"fear\" :\"fear_headline\", \"joy\": \"joy_headline\", \"sadness\": \"sadness_headline\"}, inplace = True)\n"
   ]
  },
  {
   "cell_type": "code",
   "execution_count": 30,
   "metadata": {},
   "outputs": [],
   "source": [
    "df_concat1 = pd.concat([df_headline_sent,df_headline_emotion], join = 'inner', axis = 1)\n",
    "df_concat2 = pd.concat([df_lead_paragraph_sent, df_lead_paragraph_emotion], join = 'inner', axis =1)\n",
    "df_concat3 = pd.concat([df_concat1, df_concat2], join = 'inner', axis =1)\n",
    "df_nlp = pd.concat([df_concat3, file], join = 'inner', axis = 1)\n",
    "df_nlp.set_index('Date', inplace = True)"
   ]
  },
  {
   "cell_type": "code",
   "execution_count": 32,
   "metadata": {},
   "outputs": [],
   "source": [
    "df_nlp.to_csv(r'df_nlp.csv', index = True)"
   ]
  },
  {
   "cell_type": "code",
   "execution_count": 44,
   "metadata": {},
   "outputs": [
    {
     "data": {
      "text/html": [
       "<div>\n",
       "<style scoped>\n",
       "    .dataframe tbody tr th:only-of-type {\n",
       "        vertical-align: middle;\n",
       "    }\n",
       "\n",
       "    .dataframe tbody tr th {\n",
       "        vertical-align: top;\n",
       "    }\n",
       "\n",
       "    .dataframe thead th {\n",
       "        text-align: right;\n",
       "    }\n",
       "</style>\n",
       "<table border=\"1\" class=\"dataframe\">\n",
       "  <thead>\n",
       "    <tr style=\"text-align: right;\">\n",
       "      <th></th>\n",
       "      <th>Ticker</th>\n",
       "      <th>Close</th>\n",
       "    </tr>\n",
       "    <tr>\n",
       "      <th>Date</th>\n",
       "      <th></th>\n",
       "      <th></th>\n",
       "    </tr>\n",
       "  </thead>\n",
       "  <tbody>\n",
       "    <tr>\n",
       "      <th>2020-10-01</th>\n",
       "      <td>FTSE</td>\n",
       "      <td>5832.52</td>\n",
       "    </tr>\n",
       "    <tr>\n",
       "      <th>2020-10-02</th>\n",
       "      <td>FTSE</td>\n",
       "      <td>5919.58</td>\n",
       "    </tr>\n",
       "    <tr>\n",
       "      <th>2020-10-03</th>\n",
       "      <td>FTSE</td>\n",
       "      <td>5884.65</td>\n",
       "    </tr>\n",
       "    <tr>\n",
       "      <th>2020-10-04</th>\n",
       "      <td>FTSE</td>\n",
       "      <td>5889.22</td>\n",
       "    </tr>\n",
       "    <tr>\n",
       "      <th>2020-10-05</th>\n",
       "      <td>FTSE</td>\n",
       "      <td>5776.50</td>\n",
       "    </tr>\n",
       "  </tbody>\n",
       "</table>\n",
       "</div>"
      ],
      "text/plain": [
       "           Ticker    Close\n",
       "Date                      \n",
       "2020-10-01   FTSE  5832.52\n",
       "2020-10-02   FTSE  5919.58\n",
       "2020-10-03   FTSE  5884.65\n",
       "2020-10-04   FTSE  5889.22\n",
       "2020-10-05   FTSE  5776.50"
      ]
     },
     "execution_count": 44,
     "metadata": {},
     "output_type": "execute_result"
    }
   ],
   "source": [
    "file2 = pd.read_csv(\"global_indicies.csv\", infer_datetime_format = True, parse_dates = True )\n",
    "file2[\"Date\"]=pd.to_datetime(file[\"Date\"])\n",
    "file2[\"Date\"]=file2[\"Date\"].dt.date\n",
    "file2.set_index(\"Date\",inplace=True)\n",
    "file2.head()"
   ]
  },
  {
   "cell_type": "code",
   "execution_count": null,
   "metadata": {},
   "outputs": [],
   "source": []
  }
 ],
 "metadata": {
  "kernelspec": {
   "display_name": "Python 3",
   "language": "python",
   "name": "python3"
  },
  "language_info": {
   "codemirror_mode": {
    "name": "ipython",
    "version": 3
   },
   "file_extension": ".py",
   "mimetype": "text/x-python",
   "name": "python",
   "nbconvert_exporter": "python",
   "pygments_lexer": "ipython3",
   "version": "3.7.7"
  }
 },
 "nbformat": 4,
 "nbformat_minor": 4
}
