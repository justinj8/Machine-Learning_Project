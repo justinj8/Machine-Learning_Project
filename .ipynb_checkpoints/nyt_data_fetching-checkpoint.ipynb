{
 "cells": [
  {
   "cell_type": "code",
   "execution_count": 25,
   "metadata": {},
   "outputs": [],
   "source": [
    "import pandas as pd\n",
    "import numpy as np\n",
    "import requests\n",
    "import json\n",
    "import time\n",
    "import os\n",
    "\n",
    "from dotenv import load_dotenv\n",
    "from datetime import datetime"
   ]
  },
  {
   "cell_type": "code",
   "execution_count": 7,
   "metadata": {},
   "outputs": [
    {
     "data": {
      "text/plain": [
       "True"
      ]
     },
     "execution_count": 7,
     "metadata": {},
     "output_type": "execute_result"
    }
   ],
   "source": [
    "load_dotenv()"
   ]
  },
  {
   "cell_type": "code",
   "execution_count": 40,
   "metadata": {},
   "outputs": [],
   "source": [
    "def nyt_search(start_date, end_date, key, pages=1, t_sleep=6, q=None, news_desk=None):\n",
    "    responses = []\n",
    "    base_url = \"https://api.nytimes.com/svc/search/v2/articlesearch\"\n",
    "    \n",
    "    for i in range(pages):\n",
    "        url = base_url + '.json?fq=' + news_desk + '&facet_field=day_of_week&facet=true&page=' + str(i) + '&begin_date=' + start_date + '&end_date=' + end_date + '&api-key=' + key\n",
    "        data = requests.get(url).json()\n",
    "        responses.append(data)\n",
    "        time.sleep(t_sleep)\n",
    "    \n",
    "    return(responses)\n",
    "\n",
    "def nyt_search_responses_unwrap(responses):\n",
    "    \n",
    "    result = {\n",
    "        \"Date\" : [],\n",
    "        \"Source\" : [],\n",
    "        \"Headline\" : [],\n",
    "        \"Lead Paragraph\" : [],\n",
    "        \"URL\" : []\n",
    "    }\n",
    "    \n",
    "    for d in responses:\n",
    "        for article in d['response']['docs']:\n",
    "            result[\"Date\"].append(article['pub_date'][:10])\n",
    "            result[\"Source\"].append(article['source'])\n",
    "            result[\"Headline\"].append(article['headline']['main'])\n",
    "            result[\"Lead Paragraph\"].append(article['lead_paragraph'])\n",
    "            result[\"URL\"].append(article['web_url'])\n",
    "            \n",
    "    return(result)\n",
    "    \n",
    "    "
   ]
  },
  {
   "cell_type": "code",
   "execution_count": 9,
   "metadata": {},
   "outputs": [],
   "source": [
    "base_url = \"https://api.nytimes.com/svc/search/v2/articlesearch\"\n",
    "news_desk = \"news_desk:(\\\"Business\\\" \\\"Politics\\\" \\\"Financial\\\" \\\"Foreign\\\" \\\"Jobs\\\" \\\"Personal Investing\\\")\"\n",
    "\n",
    "start_dates = [\"20201001\", \"20201011\", \"20201021\", \"20201031\", \"20201110\", \"20201120\", \"20201130\", \"20201210\", \"20201220\", \"20201230\", \"20210109\"]\n",
    "end_dates = [\"20201010\", \"20201020\", \"20201030\", \"20201109\", \"20201119\", \"20201129\", \"20201209\", \"20201219\", \"20201229\", \"20210108\", \"20210119\"]\n",
    "\n",
    "pages = 50\n",
    "\n",
    "responses = []"
   ]
  },
  {
   "cell_type": "code",
   "execution_count": 10,
   "metadata": {},
   "outputs": [
    {
     "name": "stdout",
     "output_type": "stream",
     "text": [
      "Search period 0 completed\n",
      "Search period 1 completed\n",
      "Search period 2 completed\n",
      "Search period 3 completed\n",
      "Search period 4 completed\n",
      "Search period 5 completed\n",
      "Search period 6 completed\n",
      "Search period 7 completed\n",
      "Search period 8 completed\n",
      "Search period 9 completed\n",
      "Search period 10 completed\n"
     ]
    }
   ],
   "source": [
    "for i in range(len(start_dates)):\n",
    "    responses.append(nyt_search(start_date=start_dates[i], end_date=end_dates[i], key=os.getenv(\"NYT_API_KEY\"), pages=pages, news_desk=news_desk))\n",
    "    print(f\"Search period {i} completed\")"
   ]
  },
  {
   "cell_type": "code",
   "execution_count": 28,
   "metadata": {},
   "outputs": [],
   "source": [
    "flattened_responses = np.ravel(responses)"
   ]
  },
  {
   "cell_type": "code",
   "execution_count": 41,
   "metadata": {},
   "outputs": [],
   "source": [
    "raw_dictionary = nyt_search_responses_unwrap(flattened_responses)"
   ]
  },
  {
   "cell_type": "code",
   "execution_count": 48,
   "metadata": {},
   "outputs": [],
   "source": [
    "nyt_df = pd.DataFrame.from_dict(raw_dictionary)"
   ]
  },
  {
   "cell_type": "code",
   "execution_count": 49,
   "metadata": {},
   "outputs": [],
   "source": [
    "nyt_df[\"Date\"] = pd.to_datetime(nyt_df[\"Date\"])\n",
    "nyt_df = nyt_df.set_index(\"Date\")\n",
    "nyt_df = nyt_df.sort_index(axis=0)"
   ]
  },
  {
   "cell_type": "code",
   "execution_count": 51,
   "metadata": {},
   "outputs": [],
   "source": [
    "df_headlines = nyt_df.groupby(['Date'])['Headline'].apply(','.join).reset_index().set_index('Date')\n",
    "df_lead_paragraph = nyt_df.groupby(['Date'])['Lead Paragraph'].apply(';'.join).reset_index().set_index('Date')"
   ]
  },
  {
   "cell_type": "code",
   "execution_count": 52,
   "metadata": {},
   "outputs": [],
   "source": [
    "concat_df = pd.concat([df_headlines, df_lead_paragraph], axis=1, join='inner')"
   ]
  },
  {
   "cell_type": "code",
   "execution_count": 54,
   "metadata": {},
   "outputs": [],
   "source": [
    "\n",
    "nyt_df.to_csv(r'nyt_full_data.csv', index = True)"
   ]
  },
  {
   "cell_type": "code",
   "execution_count": 55,
   "metadata": {},
   "outputs": [],
   "source": [
    "\n",
    "concat_df.to_csv(r'nyt_concatenated_data.csv', index = True)"
   ]
  },
  {
   "cell_type": "code",
   "execution_count": null,
   "metadata": {},
   "outputs": [],
   "source": []
  }
 ],
 "metadata": {
  "kernelspec": {
   "display_name": "Python [conda env:pyvizenv] *",
   "language": "python",
   "name": "conda-env-pyvizenv-py"
  },
  "language_info": {
   "codemirror_mode": {
    "name": "ipython",
    "version": 3
   },
   "file_extension": ".py",
   "mimetype": "text/x-python",
   "name": "python",
   "nbconvert_exporter": "python",
   "pygments_lexer": "ipython3",
   "version": "3.7.7"
  }
 },
 "nbformat": 4,
 "nbformat_minor": 4
}
